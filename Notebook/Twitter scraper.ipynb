{
 "cells": [
  {
   "cell_type": "code",
   "execution_count": 9,
   "metadata": {},
   "outputs": [],
   "source": [
    "from twitter_scraper import get_tweets\n",
    "#from nltk.tokenize import TweetTokenizer"
   ]
  },
  {
   "cell_type": "code",
   "execution_count": 12,
   "metadata": {},
   "outputs": [],
   "source": [
    "tweets = get_tweets('#TOI')\n",
    "\n",
    "with open(r'C:\\Users\\Ishita\\Desktop\\Sem 6\\NLP\\Lab\\Assignments\\A2\\input.txt', 'w', encoding='utf-8') as fp:\n",
    "    i = 1;\n",
    "    for tweet in tweets :\n",
    "        #print(tk.tokenize(tweet['text']))\n",
    "        if(tweet['isRetweet'] is False) :\n",
    "            temp = tweet['text'] + \"\\n \"+ str(i) + \" ~~ end of tweet~~ \\n\\n\"\n",
    "            fp.write(temp)\n",
    "            if(i == 100) :\n",
    "                break\n",
    "            i = i + 1"
   ]
  },
  {
   "cell_type": "code",
   "execution_count": 13,
   "metadata": {},
   "outputs": [],
   "source": [
    "from twitterscraper import query_tweets"
   ]
  },
  {
   "cell_type": "code",
   "execution_count": 19,
   "metadata": {},
   "outputs": [
    {
     "name": "stdout",
     "output_type": "stream",
     "text": [
      "0\n"
     ]
    }
   ],
   "source": [
    "list_of_tweets = query_tweets(\"Trump\", 10)\n",
    "print(len(list_of_tweets))\n",
    "#for tweet in query_tweets(\"(#TOI) lang:en -filter:replies\", 10):\n",
    "        #print(tweet)"
   ]
  },
  {
   "cell_type": "code",
   "execution_count": null,
   "metadata": {},
   "outputs": [],
   "source": [
    "file = open(“output.txt”,”w”)\n",
    "    for tweet in query_tweets(\"Trump OR Clinton\", 10):\n",
    "        file.write(str(tweet.text.encode('utf-8')))\n",
    "    file.close()"
   ]
  },
  {
   "cell_type": "code",
   "execution_count": 1,
   "metadata": {},
   "outputs": [],
   "source": [
    "import GetOldTweets3 as got"
   ]
  },
  {
   "cell_type": "code",
   "execution_count": 2,
   "metadata": {},
   "outputs": [],
   "source": [
    "tweetCriteria = got.manager.TweetCriteria().setUsername(\"WorldEmojiDay\")\\\n",
    "                                           .setTopTweets(True)\\\n",
    "                                           .setMaxTweets(50)\n",
    "tweets = got.manager.TweetManager.getTweets(tweetCriteria)\n",
    "\n",
    "with open(r'C:\\Users\\Ishita\\Desktop\\Sem 6\\NLP\\Lab\\Assignments\\A2\\input.txt', 'w', encoding='utf-8') as fp:\n",
    "    for tweet in tweets :\n",
    "        #temp = tweet.text + \"\\n ~~ end of tweet~~ \\n\\n\"\n",
    "        temp = tweet.text + \"\\n\\n\";\n",
    "        fp.write(temp)"
   ]
  },
  {
   "cell_type": "code",
   "execution_count": null,
   "metadata": {},
   "outputs": [],
   "source": []
  }
 ],
 "metadata": {
  "kernelspec": {
   "display_name": "Python 3",
   "language": "python",
   "name": "python3"
  },
  "language_info": {
   "codemirror_mode": {
    "name": "ipython",
    "version": 3
   },
   "file_extension": ".py",
   "mimetype": "text/x-python",
   "name": "python",
   "nbconvert_exporter": "python",
   "pygments_lexer": "ipython3",
   "version": "3.8.3"
  }
 },
 "nbformat": 4,
 "nbformat_minor": 4
}
